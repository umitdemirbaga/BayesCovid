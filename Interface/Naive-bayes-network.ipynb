{
 "cells": [
  {
   "cell_type": "markdown",
   "metadata": {},
   "source": [
    "# Naive Bayes Network"
   ]
  },
  {
   "cell_type": "code",
   "execution_count": null,
   "metadata": {},
   "outputs": [],
   "source": [
    "# from IPython.core.display import display, HTML\n",
    "# display(HTML(\"<style>.container { width:90% ! important; }<style>\"))"
   ]
  },
  {
   "cell_type": "markdown",
   "metadata": {},
   "source": [
    "#### Import dependencies"
   ]
  },
  {
   "cell_type": "code",
   "execution_count": null,
   "metadata": {},
   "outputs": [],
   "source": [
    "# Import dependencies\n",
    "# %pip install pgmpy \n",
    "# %pip install tabulate\n",
    "# %pip install pandas\n",
    "# %pip install networkx\n",
    "# %pip install matplotlib"
   ]
  },
  {
   "cell_type": "markdown",
   "metadata": {},
   "source": [
    "#### Load libraries"
   ]
  },
  {
   "cell_type": "code",
   "execution_count": null,
   "metadata": {},
   "outputs": [],
   "source": [
    "# Load libraries\n",
    "import pgmpy as pg\n",
    "import tabulate as tb\n",
    "import pandas as pd\n",
    "import numpy as np\n",
    "import missingno as mi\n",
    "import networkx as nx\n",
    "import matplotlib.pyplot as plt\n",
    "import math"
   ]
  },
  {
   "cell_type": "markdown",
   "metadata": {},
   "source": [
    "## Data import and cleaning"
   ]
  },
  {
   "cell_type": "markdown",
   "metadata": {},
   "source": [
    "#### Import clinical data"
   ]
  },
  {
   "cell_type": "code",
   "execution_count": null,
   "metadata": {},
   "outputs": [],
   "source": [
    "# Import data\n",
    "df=pd.read_csv('symptoms.csv', sep=',', header=0)\n",
    "\n",
    "# df.head()"
   ]
  },
  {
   "cell_type": "code",
   "execution_count": null,
   "metadata": {},
   "outputs": [],
   "source": [
    "df.describe().transpose()"
   ]
  },
  {
   "cell_type": "markdown",
   "metadata": {},
   "source": [
    "#### Define funtion to discretise data into catagories"
   ]
  },
  {
   "cell_type": "code",
   "execution_count": null,
   "metadata": {},
   "outputs": [],
   "source": [
    "cough_labels = ['1. 0', '2. 1']\n",
    "fever_labels = ['1. 0', '2. 1']\n",
    "sob_labels = ['1. 0', '2. 1']\n",
    "diarrhea_labels = ['1. 0', '2. 1']\n",
    "fatigue_labels = ['1. 0', '2. 1']\n",
    "headache_labels = ['1. 0', '2. 1']\n",
    "loss_of_smell_labels = ['1. 0', '2. 1']\n",
    "loss_of_taste_labels = ['1. 0', '2. 1']\n",
    "runny_nose_labels = ['1. 0', '2. 1']\n",
    "muscle_sore_labels = ['1. 0', '2. 1']\n",
    "sore_throat_labels = ['1. 0', '2. 1']\n",
    "covid_severity_labels = ['1. 1', '2. 2', '3. 3', '4. 4', '5. 5', '6. 6']"
   ]
  },
  {
   "cell_type": "code",
   "execution_count": null,
   "metadata": {},
   "outputs": [],
   "source": [
    "def make_discrete(df):\n",
    "\n",
    "    discrete_df = pd.DataFrame()\n",
    "\n",
    "    discrete_df['cough'] = pd.cut(df['cough'], bins=2, labels=cough_labels, precision=2)\n",
    "    discrete_df['fever'] = pd.cut(df['fever'], bins=2, labels=fever_labels, precision=2)\n",
    "    discrete_df['sob'] = pd.cut(df['sob'], bins=2, labels=sob_labels, precision=2)\n",
    "    discrete_df['diarrhea'] = pd.cut(df['diarrhea'], bins=2, labels=diarrhea_labels, precision=2)\n",
    "    discrete_df['fatigue'] = pd.cut(df['fatigue'], bins=2, labels=fatigue_labels, precision=2)\n",
    "    discrete_df['headache'] = pd.cut(df['headache'], bins=2, labels=headache_labels, precision=2)\n",
    "    discrete_df['loss_of_smell'] = pd.cut(df['loss_of_smell'], bins=2, labels=loss_of_smell_labels, precision=2)\n",
    "    discrete_df['loss_of_taste'] = pd.cut(df['loss_of_taste'], bins=2, labels=loss_of_taste_labels, precision=2)\n",
    "    discrete_df['runny_nose'] = pd.cut(df['runny_nose'], bins=2, labels=runny_nose_labels, precision=2)\n",
    "    discrete_df['muscle_sore'] = pd.cut(df['muscle_sore'], bins=2, labels=muscle_sore_labels, precision=2)\n",
    "    discrete_df['sore_throat'] = pd.cut(df['sore_throat'], bins=2, labels=sore_throat_labels, precision=2)\n",
    "    discrete_df['covid_severity'] = pd.cut(df['covid_severity'], bins=6, labels=covid_severity_labels, precision=2)\n",
    "\n",
    "    discrete_df = discrete_df.astype('object')\n",
    "\n",
    "    return discrete_df"
   ]
  },
  {
   "cell_type": "markdown",
   "metadata": {},
   "source": [
    "#### Descritise data into catagories"
   ]
  },
  {
   "cell_type": "code",
   "execution_count": null,
   "metadata": {},
   "outputs": [],
   "source": [
    "# Discretise clinical dataset\n",
    "cat_df = make_discrete(df)"
   ]
  },
  {
   "cell_type": "code",
   "execution_count": null,
   "metadata": {},
   "outputs": [],
   "source": [
    "from sklearn.model_selection import train_test_split\n",
    "\n",
    "training_data, testing_data = train_test_split(cat_df, test_size=0.2, random_state=20)"
   ]
  },
  {
   "cell_type": "code",
   "execution_count": null,
   "metadata": {},
   "outputs": [],
   "source": [
    "from itertools import combinations\n",
    "\n",
    "import networkx as nx\n",
    "from sklearn.metrics import f1_score\n",
    "from pgmpy.models import BayesianModel, NaiveBayes, BayesianNetwork\n",
    "from pgmpy.estimators import PC, HillClimbSearch, ExhaustiveSearch\n",
    "from pgmpy.estimators import K2Score, BicScore, BDeuScore\n",
    "from pgmpy.utils import get_example_model\n",
    "from pgmpy.sampling import BayesianModelSampling\n",
    "from pgmpy.estimators import BayesianEstimator, MaximumLikelihoodEstimator"
   ]
  },
  {
   "cell_type": "code",
   "execution_count": null,
   "metadata": {},
   "outputs": [],
   "source": [
    "df.shape[1]"
   ]
  },
  {
   "cell_type": "code",
   "execution_count": null,
   "metadata": {},
   "outputs": [],
   "source": [
    "model = NaiveBayes(feature_vars=['cough','fever','sob','diarrhea','fatigue','headache','loss_of_smell','loss_of_taste','runny_nose','muscle_sore','sore_throat'], dependent_var='covid_severity')"
   ]
  },
  {
   "cell_type": "code",
   "execution_count": null,
   "metadata": {},
   "outputs": [],
   "source": [
    "model.fit(data=training_data, parent_node='covid_severity', estimator=BayesianEstimator)\n",
    "bayes_model = BayesianNetwork(model)\n",
    "\n",
    "bayes_model.fit(data=training_data,\n",
    "    estimator=BayesianEstimator,\n",
    "    prior_type='BDeu',\n",
    "    complete_samples_only=True)"
   ]
  },
  {
   "cell_type": "code",
   "execution_count": null,
   "metadata": {},
   "outputs": [],
   "source": [
    "import networkx as nx\n",
    "import matplotlib.pyplot as plt\n",
    "\n",
    "fig, ax = plt.subplots(figsize=(10, 8))\n",
    "G = nx.DiGraph()\n",
    "G.add_edges_from(model.edges)\n",
    "G.add_nodes_from(model.nodes)\n",
    "\n",
    "pos = nx.circular_layout(G)  # Use circular layout\n",
    "DAG = G.to_directed()\n",
    "nx.topological_sort(DAG)\n",
    "\n",
    "nx.draw_networkx(\n",
    "    G,\n",
    "    pos=pos,\n",
    "    with_labels=True,\n",
    "    node_size=5000,\n",
    "    arrowsize=30,\n",
    "    alpha=0.7,\n",
    "    font_weight=\"bold\",\n",
    "    node_color='#80DAE4',\n",
    "    width=2.0,\n",
    "    ax=ax\n",
    ")\n",
    "\n",
    "tt_g = G.subgraph(nodes=['covid_severity'])\n",
    "nx.draw(\n",
    "    tt_g,\n",
    "    pos=pos,\n",
    "    with_labels=False,\n",
    "    arrowsize=0,\n",
    "    node_size=7100,\n",
    "    alpha=0.7,\n",
    "    font_weight=\"bold\",\n",
    "    node_color='#EE3B3B',\n",
    "    ax=ax\n",
    ")\n",
    "\n",
    "plt.savefig('naiveBayesNetwork.pdf', facecolor='w', bbox_inches='tight')\n",
    "plt.show()\n"
   ]
  },
  {
   "cell_type": "code",
   "execution_count": null,
   "metadata": {},
   "outputs": [],
   "source": [
    "bayes_model.get_cpds()"
   ]
  },
  {
   "cell_type": "markdown",
   "metadata": {},
   "source": [
    "## Conditional Probability Table (CPT)"
   ]
  },
  {
   "cell_type": "code",
   "execution_count": null,
   "metadata": {
    "scrolled": false
   },
   "outputs": [],
   "source": [
    "print(f'Check model: {bayes_model.check_model()}\\n')\n",
    "for cpd in bayes_model.get_cpds():\n",
    "    print(f'CPT of {cpd.variable}:')\n",
    "    print(cpd * 100, '\\n')"
   ]
  }
 ],
 "metadata": {
  "interpreter": {
   "hash": "369f2c481f4da34e4445cda3fffd2e751bd1c4d706f27375911949ba6bb62e1c"
  },
  "kernelspec": {
   "display_name": "Python 3 (ipykernel)",
   "language": "python",
   "name": "python3"
  },
  "language_info": {
   "codemirror_mode": {
    "name": "ipython",
    "version": 3
   },
   "file_extension": ".py",
   "mimetype": "text/x-python",
   "name": "python",
   "nbconvert_exporter": "python",
   "pygments_lexer": "ipython3",
   "version": "3.10.9"
  }
 },
 "nbformat": 4,
 "nbformat_minor": 2
}
