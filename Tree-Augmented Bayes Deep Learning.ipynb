{
 "cells": [
  {
   "cell_type": "markdown",
   "id": "914efedb",
   "metadata": {},
   "source": [
    "## Tree-Augmented Bayes Deep Learning"
   ]
  },
  {
   "cell_type": "code",
   "execution_count": null,
   "id": "c5c83bda",
   "metadata": {},
   "outputs": [],
   "source": [
    "import pandas as pd\n",
    "import networkx as nx\n",
    "import matplotlib.pyplot as plt\n",
    "from pgmpy.models import BayesianModel\n",
    "from pgmpy.estimators import HillClimbSearch\n",
    "\n",
    "# Load your data\n",
    "data = pd.read_csv(\"symptoms.csv\")\n",
    "\n",
    "# Use HillClimbSearch algorithm\n",
    "hc = HillClimbSearch(data)\n",
    "best_model = hc.estimate()\n",
    "\n",
    "# Get the learned structure as edges\n",
    "learned_structure = list(best_model.edges())\n",
    "\n",
    "# Manually apply constraints or manipulations\n",
    "# For example, remove the ('fever', 'cough') edge\n",
    "learned_structure = [(x, y) for (x, y) in learned_structure if (x, y) != ('fever', 'cough')]\n",
    "\n",
    "# Visualize the Bayesian network structure\n",
    "fig, ax = plt.subplots(figsize=(10, 9))\n",
    "G_bn = nx.DiGraph()\n",
    "G_bn.add_edges_from(learned_structure)\n",
    "G_bn.add_nodes_from(best_model.nodes)\n",
    "pos_bn = nx.circular_layout(G_bn)\n",
    "\n",
    "nx.draw_networkx(\n",
    "    G_bn,\n",
    "    pos=pos_bn,\n",
    "    with_labels=True,\n",
    "    node_size=7500,\n",
    "    arrowsize=30,\n",
    "    alpha=0.7,\n",
    "    font_weight=\"bold\",\n",
    "    font_size=13,\n",
    "    node_color='#FFBF79',\n",
    "    width=2.0,\n",
    "    ax=ax\n",
    ")\n",
    "\n",
    "# Customize circular for 'covid_severity' node\n",
    "tt_g = G_bn.subgraph(nodes=['covid_severity'])\n",
    "nx.draw(\n",
    "    tt_g,\n",
    "    pos=pos_bn,\n",
    "    with_labels=False,\n",
    "    arrowsize=0,\n",
    "    node_size=9500,\n",
    "    alpha=0.7,\n",
    "    font_weight=\"bold\",\n",
    "    font_size=13,\n",
    "    node_color='#F15241',\n",
    "    ax=ax,\n",
    "    width=2.0\n",
    ")\n",
    "\n",
    "# Save the figure as a PDF with a unique filename\n",
    "filename = 'deep_treeAugmented.pdf'\n",
    "plt.savefig(filename, bbox_inches='tight')\n",
    "plt.show()\n",
    "plt.close()\n"
   ]
  },
  {
   "cell_type": "code",
   "execution_count": null,
   "id": "bf5a6288",
   "metadata": {},
   "outputs": [],
   "source": []
  },
  {
   "cell_type": "code",
   "execution_count": null,
   "id": "0203d17b",
   "metadata": {},
   "outputs": [],
   "source": []
  },
  {
   "cell_type": "code",
   "execution_count": null,
   "id": "9421fc9f",
   "metadata": {},
   "outputs": [],
   "source": []
  },
  {
   "cell_type": "code",
   "execution_count": null,
   "id": "becd8d89",
   "metadata": {},
   "outputs": [],
   "source": []
  },
  {
   "cell_type": "code",
   "execution_count": null,
   "id": "6d1d8225",
   "metadata": {},
   "outputs": [],
   "source": []
  }
 ],
 "metadata": {
  "kernelspec": {
   "display_name": "Python 3 (ipykernel)",
   "language": "python",
   "name": "python3"
  },
  "language_info": {
   "codemirror_mode": {
    "name": "ipython",
    "version": 3
   },
   "file_extension": ".py",
   "mimetype": "text/x-python",
   "name": "python",
   "nbconvert_exporter": "python",
   "pygments_lexer": "ipython3",
   "version": "3.10.9"
  }
 },
 "nbformat": 4,
 "nbformat_minor": 5
}
